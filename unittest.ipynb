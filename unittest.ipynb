{
 "cells": [
  {
   "cell_type": "code",
   "execution_count": 2,
   "metadata": {},
   "outputs": [
    {
     "name": "stderr",
     "output_type": "stream",
     "text": [
      ".\n",
      "----------------------------------------------------------------------\n",
      "Ran 1 test in 0.001s\n",
      "\n",
      "OK\n"
     ]
    }
   ],
   "source": [
    "from unittest import *\n",
    "import unittest, sys\n",
    "\n",
    "class SomeTest(TestCase):\n",
    "    def test_something(self):\n",
    "        self.assertEqual(1, 1)\n",
    "\n",
    "from unittest import *\n",
    "\"\"\"\n",
    "test is used to facilitate testing on notebook\n",
    "\"\"\"\n",
    "def test(klass):\n",
    "    suite = unittest.TestLoader().loadTestsFromTestCase( klass )\n",
    "    unittest.TextTestRunner(verbosity=1,stream=sys.stderr).run( suite )\n",
    "\n",
    "test(SomeTest)"
   ]
  },
  {
   "cell_type": "code",
   "execution_count": 4,
   "metadata": {},
   "outputs": [
    {
     "name": "stderr",
     "output_type": "stream",
     "text": [
      "..\n",
      "----------------------------------------------------------------------\n",
      "Ran 2 tests in 0.003s\n",
      "\n",
      "OK\n"
     ]
    }
   ],
   "source": [
    "import mock\n",
    "from mock import Mock\n",
    "import os, sys\n",
    "\n",
    "class A:\n",
    "    def foo(self):\n",
    "        os.remove(\"something\")\n",
    "    \n",
    "    def bar(self):\n",
    "        sys.path()\n",
    "\n",
    "def foo_bar():\n",
    "    os.path.exists('foo')\n",
    "    os.path.exists('bar')\n",
    "    \n",
    "class TestA(unittest.TestCase):\n",
    "    \n",
    "    @mock.patch('sys.path')    \n",
    "    @mock.patch('os.remove')\n",
    "    def test_remove(self, os_mock, sys_mock):\n",
    "        A().foo()\n",
    "        A().bar()\n",
    "    \n",
    "        os_mock.assert_called()\n",
    "        sys_mock.assert_called()\n",
    "        \n",
    "    @mock.patch('os.path.exists')\n",
    "    def test_multiple_calls(self, os_path_exists_mock):\n",
    "        foo_bar()\n",
    "        self.assertItemsEqual(os_path_exists_mock.mock_calls, [mock.call('foo'), mock.call('bar')])       \n",
    "        \n",
    "test(TestA)"
   ]
  },
  {
   "cell_type": "code",
   "execution_count": 3,
   "metadata": {},
   "outputs": [
    {
     "name": "stderr",
     "output_type": "stream",
     "text": [
      ".\n",
      "----------------------------------------------------------------------\n",
      "Ran 1 test in 0.004s\n",
      "\n",
      "OK\n"
     ]
    }
   ],
   "source": [
    "from mock import MagicMock\n",
    "class Foo:\n",
    "    def bar(self):\n",
    "        return \"Bar\"\n",
    "\n",
    "class Bar:\n",
    "    def foo(self):\n",
    "        return Foo().bar()\n",
    "\n",
    "class TestA(unittest.TestCase):\n",
    "    @mock.patch('__main__.Foo')\n",
    "    def test(self, foo_mock):\n",
    "        bar_mock = MagicMock()\n",
    "        foo_mock.bar.return_value = bar_mock()\n",
    "        Bar().foo()\n",
    "        bar_mock.assert_called()\n",
    "        \n",
    "test(TestA)"
   ]
  },
  {
   "cell_type": "markdown",
   "metadata": {},
   "source": [
    "## Return multiple values"
   ]
  },
  {
   "cell_type": "code",
   "execution_count": 4,
   "metadata": {},
   "outputs": [
    {
     "name": "stderr",
     "output_type": "stream",
     "text": [
      "."
     ]
    },
    {
     "name": "stdout",
     "output_type": "stream",
     "text": [
      "myName\n",
      "100\n",
      "200\n"
     ]
    },
    {
     "name": "stderr",
     "output_type": "stream",
     "text": [
      "\n",
      "----------------------------------------------------------------------\n",
      "Ran 1 test in 0.002s\n",
      "\n",
      "OK\n"
     ]
    }
   ],
   "source": [
    "class TestA(unittest.TestCase):\n",
    "    def test(self):\n",
    "        func = Mock()\n",
    "        func.side_effect = [\"myName\", 100, 200]\n",
    "    \n",
    "        print func()\n",
    "        print func()\n",
    "        print func()\n",
    "    \n",
    "test(TestA)"
   ]
  },
  {
   "cell_type": "code",
   "execution_count": 7,
   "metadata": {},
   "outputs": [
    {
     "name": "stderr",
     "output_type": "stream",
     "text": [
      "F\n",
      "======================================================================\n",
      "FAIL: test (__main__.TestA)\n",
      "----------------------------------------------------------------------\n",
      "Traceback (most recent call last):\n",
      "  File \"/Users/plee/anaconda/lib/python2.7/site-packages/mock/mock.py\", line 1305, in patched\n",
      "    return func(*args, **keywargs)\n",
      "  File \"<ipython-input-7-18b7ef3719e7>\", line 10, in test\n",
      "    open_mock().__enter__().write.assert_called_with('b')\n",
      "  File \"/Users/plee/anaconda/lib/python2.7/site-packages/mock/mock.py\", line 937, in assert_called_with\n",
      "    six.raise_from(AssertionError(_error_message(cause)), cause)\n",
      "  File \"/Users/plee/anaconda/lib/python2.7/site-packages/six.py\", line 737, in raise_from\n",
      "    raise value\n",
      "AssertionError: Expected call: write('b')\n",
      "Actual call: write('a')\n",
      "\n",
      "----------------------------------------------------------------------\n",
      "Ran 1 test in 0.013s\n",
      "\n",
      "FAILED (failures=1)\n"
     ]
    }
   ],
   "source": [
    "def save(obj, filename):\n",
    "    with open(filename, 'wb') as f:\n",
    "        f.write(obj)\n",
    "\n",
    "class TestA(unittest.TestCase):\n",
    "    @mock.patch('__main__.open')\n",
    "    def test(self, open_mock):\n",
    "        save('a', 'abc.txt')\n",
    "        open_mock.assert_called_with('abc.txt', 'wb')\n",
    "        open_mock().__enter__().write.assert_called_with('a')\n",
    "    \n",
    "test(TestA)"
   ]
  }
 ],
 "metadata": {
  "anaconda-cloud": {},
  "kernelspec": {
   "display_name": "Python [conda root]",
   "language": "python",
   "name": "conda-root-py"
  },
  "language_info": {
   "codemirror_mode": {
    "name": "ipython",
    "version": 2
   },
   "file_extension": ".py",
   "mimetype": "text/x-python",
   "name": "python",
   "nbconvert_exporter": "python",
   "pygments_lexer": "ipython2",
   "version": "2.7.13"
  }
 },
 "nbformat": 4,
 "nbformat_minor": 2
}
