{
 "cells": [
  {
   "cell_type": "code",
   "execution_count": 1,
   "metadata": {
    "collapsed": false
   },
   "outputs": [
    {
     "name": "stderr",
     "output_type": "stream",
     "text": [
      ".\n",
      "----------------------------------------------------------------------\n",
      "Ran 1 test in 0.002s\n",
      "\n",
      "OK\n"
     ]
    }
   ],
   "source": [
    "from unittest import *\n",
    "import unittest, sys\n",
    "\n",
    "class SomeTest(TestCase):\n",
    "    def test_something(self):\n",
    "        self.assertEqual(1, 1)\n",
    "\n",
    "from unittest import *\n",
    "\"\"\"\n",
    "test is used to facilitate testing on notebook\n",
    "\"\"\"\n",
    "def test(klass):\n",
    "    suite = unittest.TestLoader().loadTestsFromTestCase( klass )\n",
    "    unittest.TextTestRunner(verbosity=1,stream=sys.stderr).run( suite )\n",
    "\n",
    "test(SomeTest)"
   ]
  },
  {
   "cell_type": "code",
   "execution_count": 14,
   "metadata": {
    "collapsed": false
   },
   "outputs": [
    {
     "name": "stderr",
     "output_type": "stream",
     "text": [
      ".\n",
      "----------------------------------------------------------------------\n",
      "Ran 1 test in 0.128s\n",
      "\n",
      "OK\n"
     ]
    }
   ],
   "source": [
    "import mock\n",
    "import os, sys\n",
    "\n",
    "class A:\n",
    "    def foo(self):\n",
    "        os.remove(\"something\")\n",
    "    \n",
    "    def bar(self):\n",
    "        sys.path()\n",
    "        \n",
    "class TestA(unittest.TestCase):\n",
    "    \n",
    "    @mock.patch('sys.path')    \n",
    "    @mock.patch('os.remove')\n",
    "    def test_remove(self, os_mock, sys_mock):\n",
    "        A().foo()\n",
    "        A().bar()\n",
    "    \n",
    "        os_mock.assert_called()\n",
    "        sys_mock.assert_called()\n",
    "        \n",
    "test(TestA)"
   ]
  }
 ],
 "metadata": {
  "anaconda-cloud": {},
  "kernelspec": {
   "display_name": "Python [conda root]",
   "language": "python",
   "name": "conda-root-py"
  },
  "language_info": {
   "codemirror_mode": {
    "name": "ipython",
    "version": 2
   },
   "file_extension": ".py",
   "mimetype": "text/x-python",
   "name": "python",
   "nbconvert_exporter": "python",
   "pygments_lexer": "ipython2",
   "version": "2.7.13"
  }
 },
 "nbformat": 4,
 "nbformat_minor": 2
}
