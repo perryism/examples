{
 "cells": [
  {
   "cell_type": "code",
   "execution_count": 1,
   "metadata": {
    "collapsed": true
   },
   "outputs": [],
   "source": [
    "#http://docs.sqlalchemy.org/en/latest/orm/tutorial.html\n",
    "\n",
    "from sqlalchemy import Column, DateTime, String, Integer, ForeignKey, func\n",
    "from sqlalchemy.orm import relationship, backref\n",
    "from sqlalchemy.ext.declarative import declarative_base\n",
    "\n",
    "from sqlalchemy import create_engine\n",
    "engine = create_engine('sqlite:///honeybadger.db')\n",
    "\n",
    "from sqlalchemy.orm import sessionmaker\n",
    "Session = sessionmaker()\n",
    "Session.configure(bind=engine)"
   ]
  },
  {
   "cell_type": "code",
   "execution_count": null,
   "metadata": {
    "collapsed": true
   },
   "outputs": [],
   "source": [
    "Base = declarative_base()\n",
    "\n",
    "def sqlalchemy_repr(model, parent, ignores=['__mapper__', '__table__', '__tablename__', '_sa_class_manager']):\n",
    "    k = {}\n",
    "    for i in set(dir(type(model))) - set(dir(parent)) - set(ignores):\n",
    "        k[i] = getattr(model, i)\n",
    "    return \"(%s: %s)\"%(type(model).__name__, k)"
   ]
  },
  {
   "cell_type": "code",
   "execution_count": 14,
   "metadata": {
    "collapsed": false
   },
   "outputs": [
    {
     "name": "stdout",
     "output_type": "stream",
     "text": [
      "(faults: {'_sa_decl_prepare': True, 'prepare': <bound method DeclarativeMeta.prepare of <class 'sqlalchemy.ext.automap.faults'>>, '__abstract__': True, 'component': None, 'assignee': None, 'classes': <sqlalchemy.util._collections.Properties object at 0x10efd07c0>, 'details': None, 'message': None, 'id': 1, 'klass': u'hello'})\n"
     ]
    }
   ],
   "source": [
    "#http://docs.sqlalchemy.org/en/latest/orm/extensions/automap.html\n",
    "from sqlalchemy.ext.automap import automap_base\n",
    "\n",
    "AutoMapBase = automap_base()\n",
    "AutoMapBase.prepare(engine, reflect=True)\n",
    "#AutoMapBase.classes.keys()\n",
    "Faults = AutoMapBase.classes.faults\n",
    "s = Session()\n",
    "Faults.__repr__ = lambda x : sqlalchemy_repr(x, Base)\n",
    "\n",
    "for i in s.query(Faults).all():\n",
    "    print i"
   ]
  },
  {
   "cell_type": "code",
   "execution_count": 5,
   "metadata": {
    "collapsed": false
   },
   "outputs": [],
   "source": [
    "Base = declarative_base()\n",
    "from perry.sqlalchemy import sqlalchemy_repr\n",
    "\n",
    "class MyFault(Base):\n",
    "    __tablename__ = 'faults'\n",
    "    id = Column(Integer, primary_key=True)\n",
    "    klass = Column(String)\n",
    "    component = Column(String)\n",
    "    message = Column(String)\n",
    "    assignee = Column(String)\n",
    "    details = Column(String)\n",
    "    \n",
    "    def __repr__(self):\n",
    "        return sqlalchemy_repr(self, Base)   "
   ]
  },
  {
   "cell_type": "code",
   "execution_count": null,
   "metadata": {
    "collapsed": true
   },
   "outputs": [],
   "source": [
    "Base.metadata.create_all(engine)"
   ]
  },
  {
   "cell_type": "code",
   "execution_count": 10,
   "metadata": {
    "collapsed": false
   },
   "outputs": [
    {
     "name": "stdout",
     "output_type": "stream",
     "text": [
      "(MyFault: {'component': None, 'assignee': None, 'details': None, 'message': None, 'id': 1, 'klass': u'hello'})\n"
     ]
    }
   ],
   "source": [
    "s = Session()\n",
    "for i in s.query(MyFault).all():\n",
    "    print i"
   ]
  },
  {
   "cell_type": "code",
   "execution_count": null,
   "metadata": {
    "collapsed": true
   },
   "outputs": [],
   "source": [
    "# Query\n",
    "# http:/docs.sqlalchemy.org/en/latest/orm/tutorial.html#querying"
   ]
  }
 ],
 "metadata": {
  "anaconda-cloud": {},
  "kernelspec": {
   "display_name": "Python [Root]",
   "language": "python",
   "name": "Python [Root]"
  },
  "language_info": {
   "codemirror_mode": {
    "name": "ipython",
    "version": 2
   },
   "file_extension": ".py",
   "mimetype": "text/x-python",
   "name": "python",
   "nbconvert_exporter": "python",
   "pygments_lexer": "ipython2",
   "version": "2.7.13"
  }
 },
 "nbformat": 4,
 "nbformat_minor": 0
}
