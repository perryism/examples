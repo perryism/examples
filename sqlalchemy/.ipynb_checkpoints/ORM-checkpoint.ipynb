{
 "cells": [
  {
   "cell_type": "code",
   "execution_count": 1,
   "metadata": {
    "collapsed": false
   },
   "outputs": [],
   "source": [
    "from drawer import *\n",
    "\n",
    "sql = '''CREATE TABLE IF NOT EXISTS faults\n",
    "             (id integer primary key, klass text, component text, message text, assignee text, details text)'''\n",
    "\n",
    "with SqliteConn('honeybadger.db') as (conn,c):\n",
    "    c.execute(sql)\n",
    "    conn.commit()\n",
    "    \n",
    "with SqliteConn('honeybadger.db') as (conn,c):\n",
    "    c.execute(\"INSERT INTO faults (klass) values (?)\", [\"hello\"])    \n",
    "    conn.commit()"
   ]
  },
  {
   "cell_type": "code",
   "execution_count": 2,
   "metadata": {
    "collapsed": true
   },
   "outputs": [],
   "source": [
    "from sqlalchemy import Column, DateTime, String, Integer, ForeignKey, func\n",
    "from sqlalchemy.orm import relationship, backref\n",
    "from sqlalchemy.ext.declarative import declarative_base\n",
    "\n",
    "from sqlalchemy import create_engine\n",
    "engine = create_engine('sqlite:///honeybadger.db')\n",
    "\n",
    "from sqlalchemy.orm import sessionmaker\n",
    "session = sessionmaker()\n",
    "session.configure(bind=engine)"
   ]
  },
  {
   "cell_type": "code",
   "execution_count": 3,
   "metadata": {
    "collapsed": false
   },
   "outputs": [
    {
     "name": "stdout",
     "output_type": "stream",
     "text": [
      "hello\n"
     ]
    }
   ],
   "source": [
    "#http://docs.sqlalchemy.org/en/latest/orm/extensions/automap.html\n",
    "from sqlalchemy.ext.automap import automap_base\n",
    "\n",
    "AutoMapBase = automap_base()\n",
    "AutoMapBase.prepare(engine, reflect=True)\n",
    "#AutoMapBase.classes.keys()\n",
    "Faults = AutoMapBase.classes.faults\n",
    "s = session()\n",
    "for i in s.query(Faults).all():\n",
    "    print i.klass"
   ]
  },
  {
   "cell_type": "code",
   "execution_count": 4,
   "metadata": {
    "collapsed": false
   },
   "outputs": [
    {
     "name": "stdout",
     "output_type": "stream",
     "text": [
      "hello\n"
     ]
    }
   ],
   "source": [
    "Base = declarative_base()\n",
    "class MyFault(Base):\n",
    "    def __init__(self):\n",
    "        Base.__init__(self)\n",
    "        \n",
    "    __tablename__ = 'faults'\n",
    "    id = Column(Integer, primary_key=True)\n",
    "    klass = Column(String)\n",
    "    component = Column(String)\n",
    "    message = Column(String)\n",
    "    assignee = Column(String)\n",
    "    \n",
    "s = session()\n",
    "for i in s.query(MyFault).all():\n",
    "    print i.klass"
   ]
  }
 ],
 "metadata": {
  "kernelspec": {
   "display_name": "Python [Root]",
   "language": "python",
   "name": "Python [Root]"
  },
  "language_info": {
   "codemirror_mode": {
    "name": "ipython",
    "version": 2
   },
   "file_extension": ".py",
   "mimetype": "text/x-python",
   "name": "python",
   "nbconvert_exporter": "python",
   "pygments_lexer": "ipython2",
   "version": "2.7.13"
  }
 },
 "nbformat": 4,
 "nbformat_minor": 0
}
