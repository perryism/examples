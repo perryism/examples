{
 "cells": [
  {
   "cell_type": "code",
   "execution_count": 1,
   "metadata": {
    "collapsed": false
   },
   "outputs": [
    {
     "name": "stdout",
     "output_type": "stream",
     "text": [
      "you will see this once\n",
      "hi, Perry\n",
      "hi, Perry\n"
     ]
    }
   ],
   "source": [
    "from toolz import memoize\n",
    "\n",
    "@memoize\n",
    "def hello(name):\n",
    "    print \"you will see this once\"\n",
    "    return \"hi, %s\"%name\n",
    "\n",
    "print hello('Perry')\n",
    "print hello('Perry')"
   ]
  }
 ],
 "metadata": {
  "kernelspec": {
   "display_name": "Python [Root]",
   "language": "python",
   "name": "Python [Root]"
  },
  "language_info": {
   "codemirror_mode": {
    "name": "ipython",
    "version": 2
   },
   "file_extension": ".py",
   "mimetype": "text/x-python",
   "name": "python",
   "nbconvert_exporter": "python",
   "pygments_lexer": "ipython2",
   "version": "2.7.13"
  }
 },
 "nbformat": 4,
 "nbformat_minor": 0
}
