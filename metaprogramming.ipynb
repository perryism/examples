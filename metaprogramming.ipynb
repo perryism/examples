{
 "cells": [
  {
   "cell_type": "code",
   "execution_count": 10,
   "metadata": {},
   "outputs": [
    {
     "data": {
      "text/plain": [
       "'Apple'"
      ]
     },
     "execution_count": 10,
     "metadata": {},
     "output_type": "execute_result"
    }
   ],
   "source": [
    "module = \"fruits\"\n",
    "\n",
    "def load_class_dynamically(module_name):\n",
    "    module = __import__(module_name)\n",
    "    isObject = lambda obj : type(obj) is type(object)\n",
    "    toObject = lambda klass : getattr(module, klass)\n",
    "\n",
    "    return filter(lambda x : isObject(x), [toObject(attr) for attr in dir(module)])\n",
    "\n",
    "classes = load_class_dynamically(module)"
   ]
  },
  {
   "cell_type": "code",
   "execution_count": 7,
   "metadata": {},
   "outputs": [
    {
     "name": "stdout",
     "output_type": "stream",
     "text": [
      "Apple\n",
      "Banana\n",
      "Orange\n"
     ]
    }
   ],
   "source": [
    "for cls in classes:\n",
    "    c = cls()\n",
    "    if hasattr(c, \"name\"):\n",
    "        print c.name()"
   ]
  }
 ],
 "metadata": {
  "kernelspec": {
   "display_name": "Python [conda env:pydata2017-2.7]",
   "language": "python",
   "name": "conda-env-pydata2017-2.7-py"
  },
  "language_info": {
   "codemirror_mode": {
    "name": "ipython",
    "version": 2
   },
   "file_extension": ".py",
   "mimetype": "text/x-python",
   "name": "python",
   "nbconvert_exporter": "python",
   "pygments_lexer": "ipython2",
   "version": "2.7.13"
  }
 },
 "nbformat": 4,
 "nbformat_minor": 2
}
