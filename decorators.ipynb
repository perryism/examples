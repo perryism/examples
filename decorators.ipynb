{
 "cells": [
  {
   "cell_type": "code",
   "execution_count": 7,
   "metadata": {},
   "outputs": [
    {
     "name": "stdout",
     "output_type": "stream",
     "text": [
      "Before calling u\n",
      "11\n",
      "After calling succ\n"
     ]
    }
   ],
   "source": [
    "def our_decorator(func):\n",
    "    def function_wrapper(x):\n",
    "        print(\"Before calling \" + func.__name__)\n",
    "        res = func(x)\n",
    "        print(res)\n",
    "        print(\"After calling \" + func.__name__)\n",
    "    return function_wrapper\n",
    "\n",
    "@our_decorator\n",
    "def succ(n):\n",
    "    return n + 1\n",
    "\n",
    "succ(10)"
   ]
  },
  {
   "cell_type": "code",
   "execution_count": 1,
   "metadata": {},
   "outputs": [
    {
     "name": "stdout",
     "output_type": "stream",
     "text": [
      "Change name from Foo to bar\n"
     ]
    }
   ],
   "source": [
    "import inspect\n",
    "\n",
    "def my_decorator(func):\n",
    "    def function_wrapper(self, x):\n",
    "        attr = inspect.getfullargspec(func).args[1]\n",
    "        print(\"Change %s from %s to %s\"%(attr, getattr(self, attr), x))\n",
    "        res = func(self, x)\n",
    "        return res\n",
    "    return function_wrapper\n",
    "\n",
    "class Person:\n",
    "    def __init__(self):\n",
    "        self.name = \"Foo\"\n",
    "        \n",
    "    @my_decorator\n",
    "    def rename(self, name):\n",
    "        self.name = name\n",
    "        \n",
    "p = Person()\n",
    "p.rename(\"bar\")"
   ]
  },
  {
   "cell_type": "code",
   "execution_count": 6,
   "metadata": {},
   "outputs": [
    {
     "name": "stdout",
     "output_type": "stream",
     "text": [
      "name foobar\n",
      "Change name from Foo to bar\n",
      "Renaming...\n"
     ]
    }
   ],
   "source": [
    "import inspect\n",
    "\n",
    "def my_decorator(name):\n",
    "    def w(func):\n",
    "        print(\"name %s\"%name)\n",
    "        def function_wrapper(self, x):\n",
    "            attr = inspect.getfullargspec(func).args[1]\n",
    "            print(\"Change %s from %s to %s\"%(attr, getattr(self, attr), x))\n",
    "            res = func(self, x)\n",
    "            return res\n",
    "        return function_wrapper\n",
    "    return w\n",
    "\n",
    "class Person:\n",
    "    def __init__(self):\n",
    "        self.name = \"Foo\"\n",
    "        \n",
    "    @my_decorator(\"foobar\")\n",
    "    def rename(self, name):\n",
    "        print(\"Renaming...\")\n",
    "        self.name = name\n",
    "        \n",
    "p = Person()\n",
    "p.rename(\"bar\")"
   ]
  }
 ],
 "metadata": {
  "anaconda-cloud": {},
  "kernelspec": {
   "display_name": "Python 3",
   "language": "python",
   "name": "python3"
  },
  "language_info": {
   "codemirror_mode": {
    "name": "ipython",
    "version": 3
   },
   "file_extension": ".py",
   "mimetype": "text/x-python",
   "name": "python",
   "nbconvert_exporter": "python",
   "pygments_lexer": "ipython3",
   "version": "3.7.1"
  }
 },
 "nbformat": 4,
 "nbformat_minor": 2
}
