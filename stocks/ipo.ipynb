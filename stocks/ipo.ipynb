{
 "cells": [
  {
   "cell_type": "code",
   "execution_count": 1,
   "metadata": {},
   "outputs": [],
   "source": [
    "import urllib\n",
    "body = urllib.urlopen(\"http://www.nasdaq.com/markets/ipos/activity.aspx?tab=upcoming\").read()"
   ]
  },
  {
   "cell_type": "code",
   "execution_count": 5,
   "metadata": {},
   "outputs": [
    {
     "data": {
      "text/html": [
       "<div class=\"genTable\">\n",
       "\t\t\t\t\n",
       "                <table>\n",
       "\t\t\t\t<thead>\n",
       "\t\t\t\t\t<tr>\n",
       "\t\t\t\t\t\t<th>Company Name</th>\n",
       "\t\t\t\t\t\t<th>Symbol</th>\n",
       "\t\t\t\t\t\t<th>Market</th>\n",
       "\t\t\t\t\t\t<th>Price</th>\n",
       "\t\t\t\t\t\t<th>Shares</th>\n",
       "\t\t\t\t\t\t<th>Offer Amount</th>\n",
       "\t\t\t\t\t\t<th>Expected IPO Date</th>\n",
       "\t\t\t\t\t</tr>\n",
       "\t\t\t\t</thead>\n",
       "\t\t\t\t<tbody>\n",
       "\t\t\t\t\n",
       "\t\t\t\t<tr>\n",
       "\t\t\t\t\t<td><a href=\"http://www.nasdaq.com/markets/ipos/company/ranger-energy-services-inc-1023914-83762\" id=\"two_column_main_content_rptExpected_company_0\">RANGER ENERGY SERVICES, INC.</a></td>\n",
       "\t\t\t\t\t<td><a href=\"http://www.nasdaq.com/symbol/rngr\" id=\"two_column_main_content_rptExpected_symbol_0\">RNGR</a></td>\n",
       "\t\t\t\t\t<td>NYSE</td>\n",
       "\t\t\t\t\t<td>16.00-18.00</td>\n",
       "\t\t\t\t\t<td>5,000,000</td>\n",
       "\t\t\t\t\t<td>$103,500,000</td>\n",
       "\t\t\t\t\t<td>8/11/2017</td>\n",
       "\t\t\t\t</tr>\n",
       "\t\t\t\t\n",
       "\t\t\t\t<tr>\n",
       "\t\t\t\t\t<td><a href=\"http://www.nasdaq.com/markets/ipos/company/contura-energy-inc-1022472-83635\" id=\"two_column_main_content_rptExpected_company_1\">CONTURA ENERGY, INC.</a></td>\n",
       "\t\t\t\t\t<td><a href=\"http://www.nasdaq.com/symbol/ctra\" id=\"two_column_main_content_rptExpected_symbol_1\">CTRA</a></td>\n",
       "\t\t\t\t\t<td>NYSE</td>\n",
       "\t\t\t\t\t<td>23.00-27.00</td>\n",
       "\t\t\t\t\t<td>6,000,000</td>\n",
       "\t\t\t\t\t<td>$186,300,000</td>\n",
       "\t\t\t\t\t<td>8/10/2017</td>\n",
       "\t\t\t\t</tr>\n",
       "\t\t\t\t\n",
       "\t\t\t\t<tr>\n",
       "\t\t\t\t\t<td><a href=\"http://www.nasdaq.com/markets/ipos/company/zealand-pharma-as-1027466-84135\" id=\"two_column_main_content_rptExpected_company_2\">ZEALAND PHARMA A/S</a></td>\n",
       "\t\t\t\t\t<td><a href=\"http://www.nasdaq.com/symbol/zeal\" id=\"two_column_main_content_rptExpected_symbol_2\">ZEAL</a></td>\n",
       "\t\t\t\t\t<td>NASDAQ Global Select</td>\n",
       "\t\t\t\t\t<td>$19.30</td>\n",
       "\t\t\t\t\t<td>3,900,000</td>\n",
       "\t\t\t\t\t<td>$86,560,500</td>\n",
       "\t\t\t\t\t<td>8/9/2017</td>\n",
       "\t\t\t\t</tr>\n",
       "\t\t\t\t\n",
       "                   <!-- <tr>\n",
       "\t\t\t\t\t<td><a href=\"http://www.nasdaq.com/markets/ipos/company/adomani-inc-894039-76966?tab=news\">ADOMANI, Inc.</a></td>\n",
       "\t\t\t\t\t<td>ADOM</td>\n",
       "\t\t\t\t\t<td>NASDAQ Capital Market</td>\n",
       "\t\t\t\t\t<td>$5.00</td>\n",
       "\t\t\t\t\t<td>TBA</td>\n",
       "\t\t\t\t\t<td>TBA</td>\n",
       "\t\t\t\t\t<td>6/15/17</td>\n",
       "\t\t\t\t</tr>\n",
       "\n",
       "                    <tr>\n",
       "\t\t\t\t\t<td>ShiftPixy, Inc.</td>\n",
       "\t\t\t\t\t<td>PIXY</td>\n",
       "\t\t\t\t\t<td>NASDAQ Capital Market</td>\n",
       "\t\t\t\t\t<td>$6.00-$8.00</td>\n",
       "\t\t\t\t\t<td>2,000,000</td>\n",
       "\t\t\t\t\t<td>$12,000,000-$16,000,000</td>\n",
       "\t\t\t\t\t<td>6/30/17</td>\n",
       "\t\t\t\t</tr>-->\n",
       "                </tbody>\n",
       "\t\t\t\t</table>\n",
       "                \n",
       "\t\t\t</div>"
      ],
      "text/plain": [
       "<IPython.core.display.HTML object>"
      ]
     },
     "metadata": {},
     "output_type": "display_data"
    }
   ],
   "source": [
    "from bs4 import BeautifulSoup\n",
    "soup = BeautifulSoup(body, \"html5lib\")\n",
    "table = soup.find_all(\"div\", class_=\"genTable\")\n",
    "\n",
    "from IPython.core.display import display, HTML\n",
    "display(HTML(str(table[0])))"
   ]
  }
 ],
 "metadata": {
  "kernelspec": {
   "display_name": "Python 2",
   "language": "python",
   "name": "python2"
  },
  "language_info": {
   "codemirror_mode": {
    "name": "ipython",
    "version": 2
   },
   "file_extension": ".py",
   "mimetype": "text/x-python",
   "name": "python",
   "nbconvert_exporter": "python",
   "pygments_lexer": "ipython2",
   "version": "2.7.12"
  }
 },
 "nbformat": 4,
 "nbformat_minor": 2
}
