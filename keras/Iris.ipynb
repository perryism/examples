{
 "cells": [
  {
   "cell_type": "code",
   "execution_count": 24,
   "metadata": {
    "collapsed": true
   },
   "outputs": [],
   "source": [
    "#http://scikit-learn.org/stable/auto_examples/datasets/plot_iris_dataset.html\n",
    "from sklearn import datasets\n",
    "from sklearn.preprocessing import LabelBinarizer\n",
    "\n",
    "iris = datasets.load_iris()\n",
    "X = iris.data  # we only take the first two features.\n",
    "\n",
    "lb = LabelBinarizer()\n",
    "y = lb.fit_transform(iris.target)"
   ]
  },
  {
   "cell_type": "code",
   "execution_count": 60,
   "metadata": {
    "collapsed": false
   },
   "outputs": [
    {
     "name": "stdout",
     "output_type": "stream",
     "text": [
      "Train on 120 samples, validate on 30 samples\n",
      "Epoch 1/100\n",
      "120/120 [==============================] - 0s - loss: 1.0061 - acc: 0.4333 - val_loss: 1.3896 - val_acc: 0.0000e+00\b\b\b\b\b\b\b\b\b\b\b\b\b\b\b\b\b\b\b\b\b\b\b\b\b\b\b\b\b\b\b\b\b\b\b\b\b\b\b\b\b\b\b\n",
      "Epoch 2/100\n",
      "120/120 [==============================] - 0s - loss: 0.8994 - acc: 0.5417 - val_loss: 1.2156 - val_acc: 0.0000e+00\b\b\b\b\b\b\b\b\b\b\b\b\b\b\b\b\b\b\b\b\b\b\b\b\b\b\b\b\b\b\b\b\b\b\b\b\b\b\b\b\b\b\b\n",
      "Epoch 3/100\n",
      "120/120 [==============================] - 0s - loss: 1.0256 - acc: 0.8167 - val_loss: 1.3322 - val_acc: 0.0000e+00\b\b\b\b\b\b\b\b\b\b\b\b\b\b\b\b\b\b\b\b\b\b\b\b\b\b\b\b\b\b\b\b\b\b\b\b\b\b\b\b\b\b\b\n",
      "Epoch 4/100\n",
      "120/120 [==============================] - 0s - loss: 0.8294 - acc: 0.8333 - val_loss: 1.3432 - val_acc: 0.0000e+00\b\b\b\b\b\b\b\b\b\b\b\b\b\b\b\b\b\b\b\b\b\b\b\b\b\b\b\b\b\b\b\b\b\b\b\b\b\b\b\b\b\b\b\n",
      "Epoch 5/100\n",
      "120/120 [==============================] - 0s - loss: 0.6864 - acc: 0.8333 - val_loss: 1.0481 - val_acc: 0.0000e+00\b\b\b\b\b\b\b\b\b\b\b\b\b\b\b\b\b\b\b\b\b\b\b\b\b\b\b\b\b\b\b\b\b\b\b\b\b\b\b\b\b\b\b\n",
      "Epoch 6/100\n",
      "120/120 [==============================] - 0s - loss: 0.3159 - acc: 0.8417 - val_loss: 0.7313 - val_acc: 0.4667\b\b\b\b\b\b\b\b\b\b\b\b\b\b\b\b\b\b\b\b\b\b\b\b\b\b\b\b\b\b\b\b\b\b\b\b\b\b\b\b\b\b\b\b\b\b\b\n",
      "Epoch 7/100\n",
      "120/120 [==============================] - 0s - loss: 0.6495 - acc: 0.9333 - val_loss: 0.7715 - val_acc: 0.3667\b\b\b\b\b\b\b\b\b\b\b\b\b\b\b\b\b\b\b\b\b\b\b\b\b\b\b\b\b\b\b\b\b\b\b\b\b\b\b\b\b\b\b\b\b\b\b\n",
      "Epoch 8/100\n",
      "120/120 [==============================] - 0s - loss: 0.3581 - acc: 0.9000 - val_loss: 0.5978 - val_acc: 0.6333\b\b\b\b\b\b\b\b\b\b\b\b\b\b\b\b\b\b\b\b\b\b\b\b\b\b\b\b\b\b\b\b\b\b\b\b\b\b\b\b\b\b\b\b\b\b\b\n",
      "Epoch 9/100\n",
      "120/120 [==============================] - 0s - loss: 0.2822 - acc: 0.9417 - val_loss: 0.4478 - val_acc: 0.7000\b\b\b\b\b\b\b\b\b\b\b\b\b\b\b\b\b\b\b\b\b\b\b\b\b\b\b\b\b\b\b\b\b\b\b\b\b\b\b\b\b\b\b\b\b\b\b\n",
      "Epoch 10/100\n",
      "120/120 [==============================] - 0s - loss: 0.1424 - acc: 0.9583 - val_loss: 1.2680 - val_acc: 0.3000\b\b\b\b\b\b\b\b\b\b\b\b\b\b\b\b\b\b\b\b\b\b\b\b\b\b\b\b\b\b\b\b\b\b\b\b\b\b\b\b\b\b\b\b\b\b\b\n",
      "Epoch 11/100\n",
      "120/120 [==============================] - 0s - loss: 0.4317 - acc: 0.8917 - val_loss: 0.1294 - val_acc: 1.0000\b\b\b\b\b\b\b\b\b\b\b\b\b\b\b\b\b\b\b\b\b\b\b\b\b\b\b\b\b\b\b\b\b\b\b\b\b\b\b\b\b\b\b\b\b\b\b\n",
      "Epoch 12/100\n",
      "120/120 [==============================] - 0s - loss: 0.5313 - acc: 0.9167 - val_loss: 0.6508 - val_acc: 0.6333\b\b\b\b\b\b\b\b\b\b\b\b\b\b\b\b\b\b\b\b\b\b\b\b\b\b\b\b\b\b\b\b\b\b\b\b\b\b\b\b\b\b\b\b\b\b\b\n",
      "Epoch 13/100\n",
      "120/120 [==============================] - 0s - loss: 0.1986 - acc: 0.9750 - val_loss: 0.3136 - val_acc: 0.8000\b\b\b\b\b\b\b\b\b\b\b\b\b\b\b\b\b\b\b\b\b\b\b\b\b\b\b\b\b\b\b\b\b\b\b\b\b\b\b\b\b\b\b\b\b\b\b\n",
      "Epoch 14/100\n",
      "120/120 [==============================] - 0s - loss: 0.3505 - acc: 0.9500 - val_loss: 0.4731 - val_acc: 0.7000\b\b\b\b\b\b\b\b\b\b\b\b\b\b\b\b\b\b\b\b\b\b\b\b\b\b\b\b\b\b\b\b\b\b\b\b\b\b\b\b\b\b\b\b\b\b\b\n",
      "Epoch 15/100\n",
      "120/120 [==============================] - 0s - loss: 0.2143 - acc: 0.9583 - val_loss: 0.4056 - val_acc: 0.7000\b\b\b\b\b\b\b\b\b\b\b\b\b\b\b\b\b\b\b\b\b\b\b\b\b\b\b\b\b\b\b\b\b\b\b\b\b\b\b\b\b\b\b\b\b\b\b\n",
      "Epoch 16/100\n",
      "120/120 [==============================] - 0s - loss: 0.1760 - acc: 0.9833 - val_loss: 0.2502 - val_acc: 0.9000\b\b\b\b\b\b\b\b\b\b\b\b\b\b\b\b\b\b\b\b\b\b\b\b\b\b\b\b\b\b\b\b\b\b\b\b\b\b\b\b\b\b\b\b\b\b\b\n",
      "Epoch 17/100\n",
      "120/120 [==============================] - 0s - loss: 0.2063 - acc: 0.9583 - val_loss: 0.5198 - val_acc: 0.7000\b\b\b\b\b\b\b\b\b\b\b\b\b\b\b\b\b\b\b\b\b\b\b\b\b\b\b\b\b\b\b\b\b\b\b\b\b\b\b\b\b\b\b\b\b\b\b\n"
     ]
    }
   ],
   "source": [
    "from keras.models import Sequential\n",
    "from keras.layers import Dense, Activation, Dropout\n",
    "from keras.optimizers import SGD\n",
    "from keras.callbacks import EarlyStopping\n",
    "from sklearn.model_selection import train_test_split\n",
    "\n",
    "sgd = SGD(lr=0.00001)\n",
    "model = Sequential()\n",
    "model.add(Dense(200, activation='relu', input_shape=(X.shape[1],)))\n",
    "model.add(Dropout(0.01))\n",
    "model.add(Dense(100, activation='relu'))\n",
    "model.add(Dropout(0.01))\n",
    "model.add(Dense(100, activation='relu'))\n",
    "model.add(Dropout(0.01))\n",
    "model.add(Dense(100, activation='relu'))\n",
    "model.add(Dropout(0.01))\n",
    "model.add(Dense(100, activation='relu'))\n",
    "model.add(Dropout(0.01))\n",
    "model.add(Dense(y.shape[1], activation='softmax'))\n",
    "model.add(Dropout(0.01))\n",
    "model.compile(optimizer='adam', loss='categorical_crossentropy', metrics=['accuracy'])\n",
    "\n",
    "early_stopping_monitor = EarlyStopping(patience=5)\n",
    "\n",
    "history = model.fit(X, y, epochs=100, validation_split=0.2, callbacks=[early_stopping_monitor])"
   ]
  },
  {
   "cell_type": "code",
   "execution_count": 61,
   "metadata": {
    "collapsed": false
   },
   "outputs": [
    {
     "name": "stdout",
     "output_type": "stream",
     "text": [
      "_________________________________________________________________\n",
      "Layer (type)                 Output Shape              Param #   \n",
      "=================================================================\n",
      "dense_116 (Dense)            (None, 200)               1000      \n",
      "_________________________________________________________________\n",
      "dropout_112 (Dropout)        (None, 200)               0         \n",
      "_________________________________________________________________\n",
      "dense_117 (Dense)            (None, 100)               20100     \n",
      "_________________________________________________________________\n",
      "dropout_113 (Dropout)        (None, 100)               0         \n",
      "_________________________________________________________________\n",
      "dense_118 (Dense)            (None, 100)               10100     \n",
      "_________________________________________________________________\n",
      "dropout_114 (Dropout)        (None, 100)               0         \n",
      "_________________________________________________________________\n",
      "dense_119 (Dense)            (None, 100)               10100     \n",
      "_________________________________________________________________\n",
      "dropout_115 (Dropout)        (None, 100)               0         \n",
      "_________________________________________________________________\n",
      "dense_120 (Dense)            (None, 100)               10100     \n",
      "_________________________________________________________________\n",
      "dropout_116 (Dropout)        (None, 100)               0         \n",
      "_________________________________________________________________\n",
      "dense_121 (Dense)            (None, 3)                 303       \n",
      "_________________________________________________________________\n",
      "dropout_117 (Dropout)        (None, 3)                 0         \n",
      "=================================================================\n",
      "Total params: 51,703\n",
      "Trainable params: 51,703\n",
      "Non-trainable params: 0\n",
      "_________________________________________________________________\n"
     ]
    }
   ],
   "source": [
    "model.summary()"
   ]
  },
  {
   "cell_type": "code",
   "execution_count": 62,
   "metadata": {
    "collapsed": false
   },
   "outputs": [
    {
     "name": "stdout",
     "output_type": "stream",
     "text": [
      "50/50 [==============================] - 0s\n",
      "[0.18010997772216797, 0.89999997615814209]\n"
     ]
    }
   ],
   "source": [
    "score = model.evaluate(X_test, y_test, batch_size=128)\n",
    "print score"
   ]
  },
  {
   "cell_type": "code",
   "execution_count": 64,
   "metadata": {
    "collapsed": false
   },
   "outputs": [
    {
     "name": "stdout",
     "output_type": "stream",
     "text": [
      "\r",
      "32/50 [==================>...........] - ETA: 0s"
     ]
    }
   ],
   "source": [
    "X_train, X_test, y_train, y_test = train_test_split(X, y, test_size=0.33, random_state=42)\n",
    "\n",
    "y_predict = model.predict_classes(X_test)"
   ]
  },
  {
   "cell_type": "code",
   "execution_count": 65,
   "metadata": {
    "collapsed": false
   },
   "outputs": [
    {
     "data": {
      "text/plain": [
       "0.90000000000000002"
      ]
     },
     "execution_count": 65,
     "metadata": {},
     "output_type": "execute_result"
    }
   ],
   "source": [
    "from sklearn.metrics import average_precision_score, accuracy_score\n",
    "import numpy as np\n",
    "accuracy_score(np.argmax(y_test, axis =1), y_predict)"
   ]
  }
 ],
 "metadata": {
  "anaconda-cloud": {},
  "kernelspec": {
   "display_name": "Python [conda root]",
   "language": "python",
   "name": "conda-root-py"
  },
  "language_info": {
   "codemirror_mode": {
    "name": "ipython",
    "version": 2
   },
   "file_extension": ".py",
   "mimetype": "text/x-python",
   "name": "python",
   "nbconvert_exporter": "python",
   "pygments_lexer": "ipython2",
   "version": "2.7.13"
  }
 },
 "nbformat": 4,
 "nbformat_minor": 0
}
