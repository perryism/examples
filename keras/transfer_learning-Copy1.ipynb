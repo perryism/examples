{
 "cells": [
  {
   "cell_type": "markdown",
   "metadata": {
    "collapsed": false
   },
   "source": [
    "Download the amazon product dataset from [here](http://jmcauley.ucsd.edu/data/amazon/)"
   ]
  },
  {
   "cell_type": "code",
   "execution_count": 5,
   "metadata": {
    "collapsed": false
   },
   "outputs": [],
   "source": [
    "import json\n",
    "\n",
    "def get_reviews():\n",
    "    for line in open(\"/Users/plee/workspace/ipython_notebooks/data/Apps_for_Android_5.json\", \"rb\").readlines():\n",
    "        js = json.loads(line)    \n",
    "        yield js['reviewText'], js['overall']"
   ]
  },
  {
   "cell_type": "markdown",
   "metadata": {},
   "source": [
    "I am just taking the reviews with less than 75 words"
   ]
  },
  {
   "cell_type": "code",
   "execution_count": 8,
   "metadata": {
    "collapsed": false
   },
   "outputs": [],
   "source": [
    "import numpy as np\n",
    "\n",
    "SENTENCE_LENGTH = 75\n",
    "\n",
    "reviews = []\n",
    "scores = []\n",
    "for review, score in get_reviews():\n",
    "    if score != 3:\n",
    "        word_count = len(review.split(' '))\n",
    "        if word_count < SENTENCE_LENGTH:\n",
    "            reviews.append(str(review))\n",
    "            scores.append(score)"
   ]
  },
  {
   "cell_type": "code",
   "execution_count": 7,
   "metadata": {
    "collapsed": true
   },
   "outputs": [],
   "source": [
    "y = map(lambda x: 0 if x < 3 else 1, scores)"
   ]
  },
  {
   "cell_type": "code",
   "execution_count": 13,
   "metadata": {
    "collapsed": false
   },
   "outputs": [],
   "source": [
    "from keras.preprocessing.text import Tokenizer\n",
    "from keras.preprocessing.sequence import pad_sequences\n",
    "\n",
    "class Vectorizer:\n",
    "    def __init__(self, maxlen):\n",
    "        self.tokenizer = Tokenizer()\n",
    "        self.maxlen = maxlen\n",
    "        \n",
    "    def fit(self, texts):\n",
    "        self.tokenizer.fit_on_texts(texts)\n",
    "        self.word_index = self.tokenizer.word_index\n",
    "\n",
    "    def transform(self, texts):\n",
    "        sequences = self.tokenizer.texts_to_sequences(texts)\n",
    "        return pad_sequences(sequences, maxlen=self.maxlen)\n",
    "\n",
    "    def fit_transform(self, texts):\n",
    "        self.fit(texts)\n",
    "        return self.transform(texts)"
   ]
  },
  {
   "cell_type": "code",
   "execution_count": 98,
   "metadata": {
    "collapsed": false
   },
   "outputs": [
    {
     "name": "stderr",
     "output_type": "stream",
     "text": [
      "/Users/plee/anaconda/lib/python2.7/site-packages/sklearn/preprocessing/data.py:321: DeprecationWarning: Passing 1d arrays as data is deprecated in 0.17 and will raise ValueError in 0.19. Reshape your data either using X.reshape(-1, 1) if your data has a single feature or X.reshape(1, -1) if it contains a single sample.\n",
      "  warnings.warn(DEPRECATION_MSG_1D, DeprecationWarning)\n",
      "/Users/plee/anaconda/lib/python2.7/site-packages/sklearn/preprocessing/data.py:356: DeprecationWarning: Passing 1d arrays as data is deprecated in 0.17 and will raise ValueError in 0.19. Reshape your data either using X.reshape(-1, 1) if your data has a single feature or X.reshape(1, -1) if it contains a single sample.\n",
      "  warnings.warn(DEPRECATION_MSG_1D, DeprecationWarning)\n"
     ]
    }
   ],
   "source": [
    "# import numpy as np\n",
    "\n",
    "# reviews = []\n",
    "# scores = []\n",
    "# for review, score in get_reviews():\n",
    "#     if score != 3:\n",
    "#         word_count = len(review.split(' '))\n",
    "#         if word_count < 75:\n",
    "#             reviews.append(str(review))\n",
    "#             scores.append(score)\n",
    "            \n",
    "# from sklearn.preprocessing import MinMaxScaler\n",
    "# scaler = MinMaxScaler()\n",
    "# y = scaler.fit_transform(np.array(scores).reshape((len(scores),1)))\n",
    "\n",
    "\n"
   ]
  },
  {
   "cell_type": "code",
   "execution_count": 14,
   "metadata": {
    "collapsed": false
   },
   "outputs": [],
   "source": [
    "v = Vectorizer(SENTENCE_LENGTH)\n",
    "X = v.fit_transform(reviews)\n",
    "input_dim = len(v.word_index) + 1\n",
    "del reviews\n"
   ]
  },
  {
   "cell_type": "code",
   "execution_count": 16,
   "metadata": {
    "collapsed": false
   },
   "outputs": [],
   "source": [
    "from keras.models import Sequential\n",
    "from keras.layers import Dense, Activation, Embedding, Conv1D, MaxPooling1D, Dropout, Flatten, AveragePooling1D\n",
    "dropout = 0.1\n",
    "nb_filter = 4\n",
    "nb_conv = 3\n",
    "model = Sequential()\n",
    "model.add(Embedding(input_dim, 32, input_length=SENTENCE_LENGTH))\n",
    "model.add(Dropout(dropout))\n",
    "\n",
    "model.add(Conv1D(nb_filter, nb_conv, padding='same'))\n",
    "\n",
    "model.add(MaxPooling1D(pool_size=6, padding='same'))\n",
    "\n",
    "model.add(Flatten())\n",
    "model.add(Dense(1, activation='sigmoid'))\n",
    "model.compile(optimizer='rmsprop', loss='binary_crossentropy', metrics=['accuracy'])"
   ]
  },
  {
   "cell_type": "code",
   "execution_count": 17,
   "metadata": {
    "collapsed": false
   },
   "outputs": [
    {
     "name": "stdout",
     "output_type": "stream",
     "text": [
      "_________________________________________________________________\n",
      "Layer (type)                 Output Shape              Param #   \n",
      "=================================================================\n",
      "embedding_1 (Embedding)      (None, 75, 32)            4245632   \n",
      "_________________________________________________________________\n",
      "dropout_1 (Dropout)          (None, 75, 32)            0         \n",
      "_________________________________________________________________\n",
      "conv1d_1 (Conv1D)            (None, 75, 4)             388       \n",
      "_________________________________________________________________\n",
      "max_pooling1d_1 (MaxPooling1 (None, 13, 4)             0         \n",
      "_________________________________________________________________\n",
      "flatten_1 (Flatten)          (None, 52)                0         \n",
      "_________________________________________________________________\n",
      "dense_1 (Dense)              (None, 1)                 53        \n",
      "=================================================================\n",
      "Total params: 4,246,073\n",
      "Trainable params: 4,246,073\n",
      "Non-trainable params: 0\n",
      "_________________________________________________________________\n"
     ]
    }
   ],
   "source": [
    "model.summary()"
   ]
  },
  {
   "cell_type": "code",
   "execution_count": 88,
   "metadata": {
    "collapsed": true
   },
   "outputs": [],
   "source": [
    "from keras.models import Sequential\n",
    "from keras.layers import Dense, Activation, Embedding, Conv1D, MaxPooling1D, Dropout, Flatten, AveragePooling1D\n",
    "dropout = 0.1\n",
    "nb_filter = 4\n",
    "nb_conv = 5\n",
    "model = Sequential()\n",
    "model.add(Embedding(input_dim, 16, input_length=Vectorizer.MAX_SEQUENCE_LENGTH))\n",
    "model.add(Dropout(dropout))\n",
    "\n",
    "model.add(Conv1D(nb_filter, nb_conv, padding='same'))\n",
    "\n",
    "model.add(MaxPooling1D(pool_size=6, padding='same'))\n",
    "\n",
    "model.add(Flatten())\n",
    "model.add(Dense(1, activation='sigmoid'))\n",
    "model.compile(optimizer='adam', loss='mean_squared_error', metrics=['accuracy'])"
   ]
  },
  {
   "cell_type": "code",
   "execution_count": 93,
   "metadata": {
    "collapsed": true
   },
   "outputs": [],
   "source": [
    "\n",
    "# def pickling(obj, name):\n",
    "#     open(name, 'wb').write(pickle.dumps(obj))\n",
    "\n",
    "# def get_reviews():\n",
    "#     for line in open(\"reviews_Apps_for_Android_5.json\", \"rb\").readlines():\n",
    "#         js = json.loads(line)\n",
    "#         yield js['reviewText'], js['overall']\n",
    "\n",
    "import os\n",
    "i = 3"
   ]
  },
  {
   "cell_type": "code",
   "execution_count": 90,
   "metadata": {
    "collapsed": false
   },
   "outputs": [],
   "source": [
    "i += 1\n",
    "folder = \"lstm_%s\"%i\n",
    "os.mkdir(folder)\n",
    "from keras.models import Sequential\n",
    "from keras.layers import Dense, Activation, Embedding, Conv1D, MaxPooling1D, Dropout, Flatten, AveragePooling1D, LSTM\n",
    "dropout = 0.5\n",
    "embedding_vector_length = 16\n",
    "model = Sequential()\n",
    "model.add(Embedding(input_dim, embedding_vector_length, input_length=75))\n",
    "model.add(Dropout(dropout))\n",
    "#without return_sequences, LSTM will become 2d instead of 3d as expected\n",
    "model.add(LSTM(embedding_vector_length, return_sequences=True))\n",
    "model.add(Dropout(dropout))\n",
    "model.add(LSTM(embedding_vector_length, return_sequences=True))\n",
    "model.add(Dropout(dropout))\n",
    "model.add(Flatten())\n",
    "model.add(Dense(1, activation='sigmoid'))\n",
    "#model.add(Dense(1, activation='softmax'))\n",
    "\n",
    "model.compile(optimizer='rmsprop', loss='binary_crossentropy', metrics=['accuracy'])\n",
    "\n",
    "with open(os.path.join(folder, 'summary.txt'), 'wb') as f:\n",
    "    pr = lambda x: f.write(\"%s\\n\"%x)\n",
    "    model.summary(print_fn=pr)\n",
    "    \n",
    "from keras.callbacks import EarlyStopping\n",
    "early_stopping_monitor = EarlyStopping(patience=2)\n",
    "\n",
    "callbacks = []\n",
    "callbacks.append(early_stopping_monitor)\n",
    "history = model.fit(X, y, epochs=5, validation_split=0.2,\n",
    "        callbacks=callbacks)\n",
    "\n",
    "open(os.path.join(folder, 'history.txt'), 'w').write(str(history.history))\n"
   ]
  },
  {
   "cell_type": "markdown",
   "metadata": {},
   "source": [
    "### I have done the above code in a terminal instead"
   ]
  },
  {
   "cell_type": "code",
   "execution_count": 4,
   "metadata": {
    "collapsed": false
   },
   "outputs": [],
   "source": [
    "from keras.models import load_model\n",
    "model = load_model('amazon')\n",
    "from perry import unpickling\n",
    "#vector class needs to be defined first\n",
    "v = unpickling('vectorizer.pkl')"
   ]
  },
  {
   "cell_type": "code",
   "execution_count": 16,
   "metadata": {
    "collapsed": false,
    "scrolled": true
   },
   "outputs": [
    {
     "data": {
      "text/plain": [
       "[u\"Loves the song, so he really couldn't wait to play this. A little less interesting for him so he doesn't play long, but he is almost 3 and likes to play the older games, but really cute for a younger child.\",\n",
       " u'Oh, how my little grandson loves this app. He\\'s always asking for \"Monkey.\" Grandma has tired of it long before he has. Finding the items on each page that he can touch and activate is endlessly entertaining for him, at least for now. Well worth the $.99.',\n",
       " u\"I found this at a perfect time since my daughter's favorite song at the moment is five little monkeys. It's easy for little ones to operate and fun with all the things you can play with. The different generes are nice too, gives its a little variety.  Worth the money. Highly recommended!\",\n",
       " u\"My 1 year old goes back to this game over and over again.  It is simple but very easy for a toddler to use.  I've even caught my 5 year old playing it as well.  Good app for little guys!\",\n",
       " u\"There are three different versions of the song. The game itself keeps her occupied as everything she clicks on does something! There is an airplane that flies around the room, a telephone that rings and is plays a message, the lamp turns off the light and you see the monkeys eyes going up and down in the dark, a dog that barks when you click the window and then chases a cat out from under the bed every third time, the picture on the wall becomes an interactive portrait, the traffic light stops/starts the monkeys jumping, alarm clock rings, plant grows (and produces bananas), ball bounces, toy truck rumbles and honks.... lots to keep a toddler occupied! Oh! The monkeys jump on and fall off the bed! Mama calls the doctor, etc! It's great.\",\n",
       " u\"THis is just so cute and a great app for little ones. My 16 mo old loves it. She thinks it's so funny and gets a kick out of the song.\",\n",
       " u\"I watch my great grandson 4 days a week and it's hard to keep a 16 month old occupied but all I have to do is turn on Five Little Monkeys and he goes crazy trying to get the monkey's off the bed and touching all the other interactive things on the screen. I love this! I absolutely recommend this!\",\n",
       " u'This app is wild and crazy.  Little ones love singing the song about Five Little Monkeys, in this app it is available in country, rock or pop.  It is full of action with the player controlling most of it but it has a lesson included.',\n",
       " u'love love love this app. I was going through different apps for my son and I came across this one and I was excited and singing along to the song, only problem is that the song is very quite',\n",
       " u'Very cute, with alot of items to move about.  Would be awesome if the &#34;dr. said&#34;  was in a different voice and moved too.',\n",
       " u'WELL THE CHILDREN LOVE IT AFTER AWHILE YOU GET TIERD OF IT BUT AS LONG AS THE GRANDCHILDREN LIKE IT YOU LISTEN TO IT',\n",
       " u\"I got this app because my 2 year old daughter loves the song. I found that the audio could have been clearer. They also could have had better or more tune options, they only offered 'rock', country', and 'pop', which I thought were horrible for this children's song. I do like that it's interactive. Everything you touch in the room does something different. Phone rings, dog chases the cat, door opens, clock goes off, etc.....neat. My daughter also enjoys all the other interactive features it has other than the monkeys falling off the bed. &#34;Wheels on the bus&#34; app by &#34;duck duck moose&#34; ranks higher because you have much more options like changing the language, gender voice options, instrumental, and self record which my daughter finds hilarious when she hears her own voice.  Overall it's ok and she likes to see the monkeys fall off the bed.\",\n",
       " u'My three year old Plays this game the most he loves being able to touch all the different things and watch what happens. Keeps him busy for hours',\n",
       " u'Good for little ones, especially if  know the nursery rhyme.  Once you show them what to click on they pick it up fast.',\n",
       " u'My two year old grandson loves this game and plays it constantly !!  Keeps him busy for quite some time.',\n",
       " u'My granddaughter really loves this. She will listen to all 3 types of music with it and is not yet tired of it.',\n",
       " u'love it, but wish it was fullscreen on honeycomb. the songs and animations are quite catchy. great for any preschool teacher or parent of you guns.',\n",
       " u\"does not let you sample only for a sec. if you download  it to computer it talk your music you have try to sell it back to too. if you join with a membership and if you don't pay they  sell your music on your computer . how when you combine your to there player . i know cause the did it to me had rhapsody a long time unit  it happen i close the account . don't mine paying. but not for music i have  before that . had the old look . at the time now it worse\"]"
      ]
     },
     "execution_count": 16,
     "metadata": {},
     "output_type": "execute_result"
    }
   ],
   "source": [
    "reviews[:18]"
   ]
  },
  {
   "cell_type": "code",
   "execution_count": 34,
   "metadata": {
    "collapsed": false
   },
   "outputs": [
    {
     "name": "stdout",
     "output_type": "stream",
     "text": [
      "1/1 [==============================] - 0s\n"
     ]
    },
    {
     "data": {
      "text/plain": [
       "array([[ 0.91688085]], dtype=float32)"
      ]
     },
     "execution_count": 34,
     "metadata": {},
     "output_type": "execute_result"
    }
   ],
   "source": [
    "model.predict_proba(v.transform([\"I am happy\"]))"
   ]
  },
  {
   "cell_type": "code",
   "execution_count": 54,
   "metadata": {
    "collapsed": false
   },
   "outputs": [],
   "source": [
    "import pandas as pd\n",
    "\n",
    "test = pd.read_csv('/tmp/all_test.csv')\n",
    "train = pd.read_csv('/tmp/all_train.csv')"
   ]
  },
  {
   "cell_type": "code",
   "execution_count": 55,
   "metadata": {
    "collapsed": false
   },
   "outputs": [
    {
     "name": "stdout",
     "output_type": "stream",
     "text": [
      " 992/1302 [=====================>........] - ETA: 0s\b\b\b\b\b\b\b\b\b\b\b\b\b\b\b\b\b\b\b\b\b\b\b\b\b\b\b\b\b\b\b\b\b\b\b\b\b\b\b\b\b\b\b\b\b\b\b\b\b\b\b\b\b\b\b\b\b\b\b\b\b\b\b\b\b\b\b\b\b\b\b\b\b\b\b\b\b\b\b\b\b\b\b\b\b\b\b\b\b\b\b\b\b\b\b\b\b\b\b\b\b\b\b\b"
     ]
    }
   ],
   "source": [
    "from keras.models import load_model"
   ]
  },
  {
   "cell_type": "code",
   "execution_count": 59,
   "metadata": {
    "collapsed": false
   },
   "outputs": [],
   "source": [
    "def true_y(df):\n",
    "    true_y = []\n",
    "    for y in df['Unnamed: 3']:\n",
    "        true_y.append(0 if y < 3 else 1)\n",
    "    return true_y\n",
    "\n",
    "from sklearn.preprocessing import MinMaxScaler\n",
    "scaler = MinMaxScaler()\n",
    "y = scaler.fit_transform(np.array(scores).reshape((604106,1)))\n",
    "\n",
    "import numpy as np\n",
    "from vectorizer import Vectorizer\n",
    "from sklearn.metrics import f1_score"
   ]
  },
  {
   "cell_type": "code",
   "execution_count": 61,
   "metadata": {
    "collapsed": false
   },
   "outputs": [
    {
     "data": {
      "text/plain": [
       "0    2\n",
       "1    2\n",
       "2    2\n",
       "3    2\n",
       "4    2\n",
       "5    2\n",
       "6    2\n",
       "7    2\n",
       "8    2\n",
       "9    2\n",
       "Name: Unnamed: 3, dtype: int64"
      ]
     },
     "execution_count": 61,
     "metadata": {},
     "output_type": "execute_result"
    }
   ],
   "source": [
    "pred_y = model.predict_proba(v.transform(test['Segment']))\n",
    "len(pred_y[pred_y[:,0] == test_y])\n",
    "\n",
    "\n",
    "f1_score(pred_y[:,0], y)"
   ]
  },
  {
   "cell_type": "code",
   "execution_count": 62,
   "metadata": {
    "collapsed": false
   },
   "outputs": [
    {
     "name": "stdout",
     "output_type": "stream",
     "text": [
      "10/10 [==============================] - 0s\n"
     ]
    },
    {
     "data": {
      "text/plain": [
       "array([[ 0.87394553],\n",
       "       [ 0.29533932],\n",
       "       [ 0.9721629 ],\n",
       "       [ 0.8462379 ],\n",
       "       [ 0.85978496],\n",
       "       [ 0.61218536],\n",
       "       [ 0.83538377],\n",
       "       [ 0.83985728],\n",
       "       [ 0.34078816],\n",
       "       [ 0.89358461]], dtype=float32)"
      ]
     },
     "execution_count": 62,
     "metadata": {},
     "output_type": "execute_result"
    }
   ],
   "source": [
    "model.predict_proba(v.transform(train['Segment'][:10]))"
   ]
  },
  {
   "cell_type": "code",
   "execution_count": 60,
   "metadata": {
    "collapsed": false
   },
   "outputs": [
    {
     "data": {
      "text/plain": [
       "0.68888888888888877"
      ]
     },
     "execution_count": 60,
     "metadata": {},
     "output_type": "execute_result"
    }
   ],
   "source": [
    "ddfrom sklearn.metrics import f1_score\n",
    "f1_score(true_y, pred_y)"
   ]
  },
  {
   "cell_type": "code",
   "execution_count": null,
   "metadata": {
    "collapsed": false
   },
   "outputs": [],
   "source": [
    "from sklearn.ensemble import GradientBoostingRegressor\n",
    "from sklearn.svm import SVC, SVR\n",
    "from sklearn.feature_extraction.text import CountVectorizer\n",
    "from sklearn.feature_extraction.text import TfidfVectorizer\n",
    "v = TfidfVectorizer(ngram_range=(1,2))\n",
    "X = v.fit_transform(reviews)\n",
    "from sklearn.model_selection import train_test_split\n",
    "X_train, X_test, y_train, y_test = train_test_split(\n",
    "     X, y, test_size=0.3, random_state=42)\n",
    "\n",
    "clf = SVR()\n",
    "#clf = GradientBoostingRegressor()\n",
    "clf.fit(X_train, y_train)\n",
    "y_pred = clf.predict(X_test)\n",
    "\n",
    "import numpy as np\n",
    "np.abs(y_pred - y_test).sum()/len(y_test)\n"
   ]
  },
  {
   "cell_type": "code",
   "execution_count": null,
   "metadata": {
    "collapsed": true
   },
   "outputs": [],
   "source": []
  }
 ],
 "metadata": {
  "anaconda-cloud": {},
  "kernelspec": {
   "display_name": "Python [conda root]",
   "language": "python",
   "name": "conda-root-py"
  }
 },
 "nbformat": 4,
 "nbformat_minor": 2
}
