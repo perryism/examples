{
 "cells": [
  {
   "cell_type": "code",
   "execution_count": 1,
   "metadata": {
    "collapsed": false
   },
   "outputs": [],
   "source": [
    "from bokeh.resources import CDN\n",
    "import pandas as pd\n",
    "from bokeh.charts import Donut, show\n",
    "classes = ['apple', 'banana', 'mango', 'orange', 'pear']\n",
    "data = pd.Series([ 0.3909,  0.1459,  0.1517,  0.1105,  0.201 ], index = classes)\n",
    "pie_chart = Donut(data)\n",
    "from bokeh.embed import file_html, components\n",
    "html = file_html(pie_chart, CDN, \"my plot\")"
   ]
  },
  {
   "cell_type": "code",
   "execution_count": 2,
   "metadata": {
    "collapsed": true
   },
   "outputs": [],
   "source": [
    "script, div = components(pie_chart)\n",
    "\n",
    "html = \"\"\"\n",
    "<!DOCTYPE html>\n",
    "<html lang=\"en\">\n",
    "    <head>\n",
    "        <meta charset=\"utf-8\">\n",
    "        <title>my plot</title>\n",
    "        \n",
    "<link rel=\"stylesheet\" href=\"https://cdn.pydata.org/bokeh/release/bokeh-0.12.4.min.css\" type=\"text/css\" />\n",
    "        \n",
    "<script type=\"text/javascript\" src=\"https://cdn.pydata.org/bokeh/release/bokeh-0.12.4.min.js\"></script>\n",
    "<script type=\"text/javascript\">\n",
    "    Bokeh.set_log_level(\"info\");\n",
    "</script>\n",
    "\n",
    "    </head>\n",
    "    <body>\n",
    "        %s\n",
    "        %s\n",
    "    </body>\n",
    "</html>\n",
    "\"\"\"%(div, script)"
   ]
  },
  {
   "cell_type": "code",
   "execution_count": 3,
   "metadata": {
    "collapsed": false
   },
   "outputs": [
    {
     "data": {
      "text/html": [
       "\n",
       "<!DOCTYPE html>\n",
       "<html lang=\"en\">\n",
       "    <head>\n",
       "        <meta charset=\"utf-8\">\n",
       "        <title>my plot</title>\n",
       "        \n",
       "<link rel=\"stylesheet\" href=\"https://cdn.pydata.org/bokeh/release/bokeh-0.12.4.min.css\" type=\"text/css\" />\n",
       "        \n",
       "<script type=\"text/javascript\" src=\"https://cdn.pydata.org/bokeh/release/bokeh-0.12.4.min.js\"></script>\n",
       "<script type=\"text/javascript\">\n",
       "    Bokeh.set_log_level(\"info\");\n",
       "</script>\n",
       "\n",
       "    </head>\n",
       "    <body>\n",
       "        \n",
       "<div class=\"bk-root\">\n",
       "    <div class=\"bk-plotdiv\" id=\"658c823a-8bb9-40b2-964f-22a357aaddbd\"></div>\n",
       "</div>\n",
       "        \n",
       "<script type=\"text/javascript\">\n",
       "    (function() {\n",
       "  var fn = function() {\n",
       "    Bokeh.safely(function() {\n",
       "      var docs_json = {\"dfad1706-1078-4f2f-8d4a-a8b71b5ba5b3\":{\"roots\":{\"references\":[{\"attributes\":{\"data_source\":{\"id\":\"5d0cc8e0-a8df-4d01-a71a-1b3790f930d5\",\"type\":\"ColumnDataSource\"},\"glyph\":{\"id\":\"815efe9a-7b6f-48d8-9ed4-bdc27d04d4c4\",\"type\":\"AnnularWedge\"},\"hover_glyph\":null,\"nonselection_glyph\":null,\"selection_glyph\":null},\"id\":\"92651d6f-47aa-429a-aa87-9ee8c5fbe027\",\"type\":\"GlyphRenderer\"},{\"attributes\":{},\"id\":\"942445e3-ada7-4d65-9749-86bd822fbc28\",\"type\":\"BasicTickFormatter\"},{\"attributes\":{\"callback\":null,\"end\":1.6500000000000001,\"start\":-1.6500000000000001},\"id\":\"65d0d1e6-a8c2-4f02-b6fa-78c69da829e1\",\"type\":\"Range1d\"},{\"attributes\":{\"callback\":null,\"column_names\":[\"y\",\"x\",\"text_angle\",\"text\"],\"data\":{\"text\":[\"apple\",\"banana\",\"mango\",\"orange\",\"pear\"],\"text_angle\":{\"__ndarray__\":\"AAAAAAAAAAAAAAAAAAAAAAAAAAAAAAAAAAAAAAAAAAAAAAAAAAAAAA==\",\"dtype\":\"float64\",\"shape\":[5]},\"x\":[0.3780858286018104,-1.0961044535099642,-0.8547677298052236,-0.04416729272895363,0.9080622261521991],\"y\":[1.0595641114205796,0.2533377725401849,-0.731434978712137,-1.1241326657708133,-0.664114443025833]}},\"id\":\"ba58bb1b-822d-4fc7-8ea4-82d01b43cc1f\",\"type\":\"ColumnDataSource\"},{\"attributes\":{},\"id\":\"8f283a99-1a77-4b60-bedb-200560bef0b6\",\"type\":\"ToolEvents\"},{\"attributes\":{\"plot\":{\"id\":\"0647ec1b-5f55-48e8-a0db-fbfcf46e8925\",\"subtype\":\"Chart\",\"type\":\"Plot\"}},\"id\":\"9a284573-55b8-4ca8-a66d-c9361b2ec7b0\",\"type\":\"ResetTool\"},{\"attributes\":{\"data_source\":{\"id\":\"ba58bb1b-822d-4fc7-8ea4-82d01b43cc1f\",\"type\":\"ColumnDataSource\"},\"glyph\":{\"id\":\"008aa707-3f5a-464b-93b1-dae4bb27a8f2\",\"type\":\"Text\"},\"hover_glyph\":null,\"nonselection_glyph\":null,\"selection_glyph\":null},\"id\":\"43d72a42-4238-44a2-95fe-51eaf5641694\",\"type\":\"GlyphRenderer\"},{\"attributes\":{},\"id\":\"c26bd76f-b199-486f-b026-046aba066e40\",\"type\":\"BasicTicker\"},{\"attributes\":{\"below\":[{\"id\":\"cb102f4c-d8f1-4f2b-af73-47eac6f7e494\",\"type\":\"LinearAxis\"}],\"css_classes\":null,\"left\":[{\"id\":\"b67b56a6-b3d4-4755-b44d-1a9a117d594a\",\"type\":\"LinearAxis\"}],\"plot_height\":400,\"plot_width\":400,\"renderers\":[{\"id\":\"edbaf803-8b0d-4ba0-bb68-a93be0845bab\",\"type\":\"BoxAnnotation\"},{\"id\":\"92651d6f-47aa-429a-aa87-9ee8c5fbe027\",\"type\":\"GlyphRenderer\"},{\"id\":\"43d72a42-4238-44a2-95fe-51eaf5641694\",\"type\":\"GlyphRenderer\"},{\"id\":\"7d4a939e-a0a8-4da2-9f89-0d8ab7afa17a\",\"type\":\"Legend\"},{\"id\":\"cb102f4c-d8f1-4f2b-af73-47eac6f7e494\",\"type\":\"LinearAxis\"},{\"id\":\"b67b56a6-b3d4-4755-b44d-1a9a117d594a\",\"type\":\"LinearAxis\"}],\"title\":{\"id\":\"bcf3450d-52ae-41a7-a3a3-fbeee51c9d45\",\"type\":\"Title\"},\"tool_events\":{\"id\":\"8f283a99-1a77-4b60-bedb-200560bef0b6\",\"type\":\"ToolEvents\"},\"toolbar\":{\"id\":\"6ef5c091-b578-4374-b07a-16ed91531a49\",\"type\":\"Toolbar\"},\"x_mapper_type\":\"auto\",\"x_range\":{\"id\":\"fe621529-7d0d-4e78-b30f-67615b833c96\",\"type\":\"Range1d\"},\"y_mapper_type\":\"auto\",\"y_range\":{\"id\":\"65d0d1e6-a8c2-4f02-b6fa-78c69da829e1\",\"type\":\"Range1d\"}},\"id\":\"0647ec1b-5f55-48e8-a0db-fbfcf46e8925\",\"subtype\":\"Chart\",\"type\":\"Plot\"},{\"attributes\":{\"overlay\":{\"id\":\"edbaf803-8b0d-4ba0-bb68-a93be0845bab\",\"type\":\"BoxAnnotation\"},\"plot\":{\"id\":\"0647ec1b-5f55-48e8-a0db-fbfcf46e8925\",\"subtype\":\"Chart\",\"type\":\"Plot\"}},\"id\":\"7a4b1d49-5e15-4b28-b911-4fb95645f066\",\"type\":\"BoxZoomTool\"},{\"attributes\":{\"location\":\"top_left\",\"plot\":{\"id\":\"0647ec1b-5f55-48e8-a0db-fbfcf46e8925\",\"subtype\":\"Chart\",\"type\":\"Plot\"}},\"id\":\"7d4a939e-a0a8-4da2-9f89-0d8ab7afa17a\",\"type\":\"Legend\"},{\"attributes\":{},\"id\":\"ebabe02c-eb90-44e9-b5ae-bd390cd66b54\",\"type\":\"BasicTickFormatter\"},{\"attributes\":{\"end_angle\":{\"field\":\"end\",\"units\":\"rad\"},\"fill_alpha\":{\"value\":0.8},\"fill_color\":{\"field\":\"color\"},\"inner_radius\":{\"field\":\"inners\",\"units\":\"data\"},\"line_color\":{\"value\":\"White\"},\"outer_radius\":{\"field\":\"outers\",\"units\":\"data\"},\"start_angle\":{\"field\":\"start\",\"units\":\"rad\"},\"x\":{\"value\":0},\"y\":{\"value\":0}},\"id\":\"815efe9a-7b6f-48d8-9ed4-bdc27d04d4c4\",\"type\":\"AnnularWedge\"},{\"attributes\":{},\"id\":\"ff0d9e57-1f10-44d2-b13f-c53e98441124\",\"type\":\"BasicTicker\"},{\"attributes\":{\"plot\":{\"id\":\"0647ec1b-5f55-48e8-a0db-fbfcf46e8925\",\"subtype\":\"Chart\",\"type\":\"Plot\"}},\"id\":\"d923ba8b-41a2-433c-b939-b9eed18d3024\",\"type\":\"WheelZoomTool\"},{\"attributes\":{\"callback\":null,\"column_names\":[\"index\",\"end\",\"inners\",\"level\",\"color\",\"start\",\"values\",\"outers\",\"centers\"],\"data\":{\"centers\":[1.125,1.125,1.125,1.125,1.125],\"color\":[\"#f22c40\",\"#5ab738\",\"#407ee7\",\"#df5320\",\"#00ad9c\"],\"end\":[2.4560971365764996,3.3728138728940014,4.325973083993144,5.020265060436488,6.2831853071795845],\"index\":[\"apple\",\"banana\",\"mango\",\"orange\",\"pear\"],\"inners\":[0.0,0.0,0.0,0.0,0.0],\"level\":[0.0,0.0,0.0,0.0,0.0],\"outers\":[1.5,1.5,1.5,1.5,1.5],\"start\":[0.0,2.4560971365764996,3.3728138728940014,4.325973083993144,5.020265060436488],\"values\":[0.3909,0.1459,0.1517,0.1105,0.201]}},\"id\":\"5d0cc8e0-a8df-4d01-a71a-1b3790f930d5\",\"type\":\"ColumnDataSource\"},{\"attributes\":{\"axis_label\":null,\"formatter\":{\"id\":\"ebabe02c-eb90-44e9-b5ae-bd390cd66b54\",\"type\":\"BasicTickFormatter\"},\"plot\":{\"id\":\"0647ec1b-5f55-48e8-a0db-fbfcf46e8925\",\"subtype\":\"Chart\",\"type\":\"Plot\"},\"ticker\":{\"id\":\"ff0d9e57-1f10-44d2-b13f-c53e98441124\",\"type\":\"BasicTicker\"},\"visible\":false},\"id\":\"b67b56a6-b3d4-4755-b44d-1a9a117d594a\",\"type\":\"LinearAxis\"},{\"attributes\":{\"axis_label\":null,\"formatter\":{\"id\":\"942445e3-ada7-4d65-9749-86bd822fbc28\",\"type\":\"BasicTickFormatter\"},\"plot\":{\"id\":\"0647ec1b-5f55-48e8-a0db-fbfcf46e8925\",\"subtype\":\"Chart\",\"type\":\"Plot\"},\"ticker\":{\"id\":\"c26bd76f-b199-486f-b026-046aba066e40\",\"type\":\"BasicTicker\"},\"visible\":false},\"id\":\"cb102f4c-d8f1-4f2b-af73-47eac6f7e494\",\"type\":\"LinearAxis\"},{\"attributes\":{\"callback\":null,\"end\":1.6500000000000001,\"start\":-1.6500000000000001},\"id\":\"fe621529-7d0d-4e78-b30f-67615b833c96\",\"type\":\"Range1d\"},{\"attributes\":{\"active_drag\":\"auto\",\"active_scroll\":\"auto\",\"active_tap\":\"auto\",\"tools\":[{\"id\":\"a41ae6ac-39fc-4f07-abaa-93220bab5d7f\",\"type\":\"PanTool\"},{\"id\":\"d923ba8b-41a2-433c-b939-b9eed18d3024\",\"type\":\"WheelZoomTool\"},{\"id\":\"7a4b1d49-5e15-4b28-b911-4fb95645f066\",\"type\":\"BoxZoomTool\"},{\"id\":\"b9cd0e62-fa3c-49bb-ab65-3feaa1165c7d\",\"type\":\"SaveTool\"},{\"id\":\"9a284573-55b8-4ca8-a66d-c9361b2ec7b0\",\"type\":\"ResetTool\"},{\"id\":\"9c057324-26ce-4363-a720-089d6526a1fe\",\"type\":\"HelpTool\"}]},\"id\":\"6ef5c091-b578-4374-b07a-16ed91531a49\",\"type\":\"Toolbar\"},{\"attributes\":{\"angle\":{\"field\":\"text_angle\",\"units\":\"rad\"},\"text_align\":\"center\",\"text_baseline\":\"middle\",\"text_font_size\":{\"value\":\"10pt\"},\"x\":{\"field\":\"x\"},\"y\":{\"field\":\"y\"}},\"id\":\"008aa707-3f5a-464b-93b1-dae4bb27a8f2\",\"type\":\"Text\"},{\"attributes\":{\"plot\":{\"id\":\"0647ec1b-5f55-48e8-a0db-fbfcf46e8925\",\"subtype\":\"Chart\",\"type\":\"Plot\"}},\"id\":\"9c057324-26ce-4363-a720-089d6526a1fe\",\"type\":\"HelpTool\"},{\"attributes\":{\"plot\":{\"id\":\"0647ec1b-5f55-48e8-a0db-fbfcf46e8925\",\"subtype\":\"Chart\",\"type\":\"Plot\"}},\"id\":\"b9cd0e62-fa3c-49bb-ab65-3feaa1165c7d\",\"type\":\"SaveTool\"},{\"attributes\":{\"bottom_units\":\"screen\",\"fill_alpha\":{\"value\":0.5},\"fill_color\":{\"value\":\"lightgrey\"},\"left_units\":\"screen\",\"level\":\"overlay\",\"line_alpha\":{\"value\":1.0},\"line_color\":{\"value\":\"black\"},\"line_dash\":[4,4],\"line_width\":{\"value\":2},\"plot\":null,\"render_mode\":\"css\",\"right_units\":\"screen\",\"top_units\":\"screen\"},\"id\":\"edbaf803-8b0d-4ba0-bb68-a93be0845bab\",\"type\":\"BoxAnnotation\"},{\"attributes\":{\"plot\":null,\"text\":null},\"id\":\"bcf3450d-52ae-41a7-a3a3-fbeee51c9d45\",\"type\":\"Title\"},{\"attributes\":{\"plot\":{\"id\":\"0647ec1b-5f55-48e8-a0db-fbfcf46e8925\",\"subtype\":\"Chart\",\"type\":\"Plot\"}},\"id\":\"a41ae6ac-39fc-4f07-abaa-93220bab5d7f\",\"type\":\"PanTool\"}],\"root_ids\":[\"0647ec1b-5f55-48e8-a0db-fbfcf46e8925\"]},\"title\":\"Bokeh Application\",\"version\":\"0.12.4\"}};\n",
       "      var render_items = [{\"docid\":\"dfad1706-1078-4f2f-8d4a-a8b71b5ba5b3\",\"elementid\":\"658c823a-8bb9-40b2-964f-22a357aaddbd\",\"modelid\":\"0647ec1b-5f55-48e8-a0db-fbfcf46e8925\"}];\n",
       "      \n",
       "      Bokeh.embed.embed_items(docs_json, render_items);\n",
       "    });\n",
       "  };\n",
       "  if (document.readyState != \"loading\") fn();\n",
       "  else document.addEventListener(\"DOMContentLoaded\", fn);\n",
       "})();\n",
       "\n",
       "</script>\n",
       "    </body>\n",
       "</html>\n"
      ],
      "text/plain": [
       "<IPython.core.display.HTML object>"
      ]
     },
     "metadata": {},
     "output_type": "display_data"
    }
   ],
   "source": [
    "from IPython.display import Javascript\n",
    "from bokeh.embed import notebook_div\n",
    "from bokeh.io import output_notebook\n",
    "from IPython.core.display import display, HTML\n",
    "display(HTML(html))"
   ]
  }
 ],
 "metadata": {
  "anaconda-cloud": {},
  "kernelspec": {
   "display_name": "Python [conda root]",
   "language": "python",
   "name": "conda-root-py"
  },
  "language_info": {
   "codemirror_mode": {
    "name": "ipython",
    "version": 2
   },
   "file_extension": ".py",
   "mimetype": "text/x-python",
   "name": "python",
   "nbconvert_exporter": "python",
   "pygments_lexer": "ipython2",
   "version": "2.7.13"
  }
 },
 "nbformat": 4,
 "nbformat_minor": 2
}
