{
 "cells": [
  {
   "cell_type": "code",
   "execution_count": 2,
   "metadata": {
    "collapsed": false
   },
   "outputs": [
    {
     "name": "stdout",
     "output_type": "stream",
     "text": [
      "[  0.    2.5   5.    7.5  10. ]\n",
      "[[  0. ]\n",
      " [  2.5]\n",
      " [  5. ]\n",
      " [  7.5]\n",
      " [ 10. ]]\n",
      "[  0.    2.5   5.    7.5  10. ]\n"
     ]
    }
   ],
   "source": [
    "#list to vector\n",
    "import numpy as np\n",
    "\n",
    "my_list = np.linspace(0, 10, 5)\n",
    "print my_list\n",
    "my_vector = my_list.reshape((5,1))\n",
    "print my_vector\n",
    "print my_vector.ravel()"
   ]
  },
  {
   "cell_type": "markdown",
   "metadata": {},
   "source": [
    "## Top N items"
   ]
  },
  {
   "cell_type": "code",
   "execution_count": 36,
   "metadata": {
    "collapsed": false
   },
   "outputs": [],
   "source": [
    "def top(arr, top=3, axis=0):\n",
    "    sorted_array = arr.argsort(axis=axis)\n",
    "    return sorted_array[-1*top:, :][::-1]\n",
    "       \n",
    "def bottom(arr, top=3, axis=0):\n",
    "    sorted_array = arr.argsort(axis=axis)\n",
    "    return sorted_array[:top, :]\n",
    "    \n",
    "arr = np.array([[9],[5],[3],[1],[0],[8],[2],[7],[6]])\n",
    "from numpy.testing import assert_array_equal\n",
    "\n",
    "assert_array_equal(top(arr, axis=0), np.array([[0],[5],[7]]))\n",
    "#print zip(arr[top(arr)], top(arr))\n",
    "\n",
    "assert_array_equal(bottom(arr, axis=0), np.array([[4],[3],[6]]))\n",
    "#print zip(arr[bottom(arr)], bottom(arr))"
   ]
  }
 ],
 "metadata": {
  "anaconda-cloud": {},
  "kernelspec": {
   "display_name": "Python [conda root]",
   "language": "python",
   "name": "conda-root-py"
  },
  "language_info": {
   "codemirror_mode": {
    "name": "ipython",
    "version": 2
   },
   "file_extension": ".py",
   "mimetype": "text/x-python",
   "name": "python",
   "nbconvert_exporter": "python",
   "pygments_lexer": "ipython2",
   "version": "2.7.13"
  }
 },
 "nbformat": 4,
 "nbformat_minor": 2
}
