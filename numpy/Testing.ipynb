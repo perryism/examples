{
 "cells": [
  {
   "cell_type": "code",
   "execution_count": 12,
   "metadata": {
    "collapsed": false
   },
   "outputs": [
    {
     "name": "stderr",
     "output_type": "stream",
     "text": [
      ".\n",
      "----------------------------------------------------------------------\n",
      "Ran 1 test in 0.001s\n",
      "\n",
      "OK\n"
     ]
    }
   ],
   "source": [
    "import unittest\n",
    "from mock import Mock\n",
    "from numpy.testing import assert_array_equal\n",
    "import numpy as np\n",
    "import sys\n",
    "\n",
    "class SomeClass:\n",
    "    def __init__(self, model):\n",
    "        self.model = model\n",
    "        \n",
    "    def predict(self, X):\n",
    "        return self.model.predict(X)\n",
    "\n",
    "class SomeTest(unittest.TestCase):\n",
    "    def test_predict(self):\n",
    "        model_mock = Mock()\n",
    "        some_class = SomeClass(model_mock)\n",
    "        \n",
    "        X = np.random.rand(3,4)\n",
    "\n",
    "        some_class.predict(X)\n",
    "        \n",
    "        model_mock.predict.assert_called_with(X)\n",
    "        \n",
    "        #This is same as the line above\n",
    "        assert_array_equal(model_mock.predict.call_args[0][0], X)\n",
    "    \n",
    "def test(klass):\n",
    "    suite = unittest.TestLoader().loadTestsFromTestCase( klass )\n",
    "    unittest.TextTestRunner(verbosity=1,stream=sys.stderr).run( suite )\n",
    "\n",
    "test(SomeTest)"
   ]
  }
 ],
 "metadata": {
  "anaconda-cloud": {},
  "kernelspec": {
   "display_name": "Python [conda root]",
   "language": "python",
   "name": "conda-root-py"
  },
  "language_info": {
   "codemirror_mode": {
    "name": "ipython",
    "version": 2
   },
   "file_extension": ".py",
   "mimetype": "text/x-python",
   "name": "python",
   "nbconvert_exporter": "python",
   "pygments_lexer": "ipython2",
   "version": "2.7.13"
  }
 },
 "nbformat": 4,
 "nbformat_minor": 2
}
