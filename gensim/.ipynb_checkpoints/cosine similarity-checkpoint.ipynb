{
 "cells": [
  {
   "cell_type": "code",
   "execution_count": 9,
   "metadata": {
    "collapsed": false
   },
   "outputs": [
    {
     "name": "stdout",
     "output_type": "stream",
     "text": [
      "GoogleNews-vectors-negative300.bin \u001b[1m\u001b[36mproduct_research\u001b[m\u001b[m\r\n",
      "\u001b[1m\u001b[36mcats_n_dogs\u001b[m\u001b[m                        \u001b[1m\u001b[36msentiment_labelled_sentences\u001b[m\u001b[m\r\n",
      "housing.data.txt                   \u001b[1m\u001b[36mstocks\u001b[m\u001b[m\r\n"
     ]
    }
   ],
   "source": [
    "!ls ~/workspace/ipython_notebooks/data"
   ]
  },
  {
   "cell_type": "code",
   "execution_count": 10,
   "metadata": {
    "collapsed": true
   },
   "outputs": [],
   "source": [
    "from gensim.models import KeyedVectors\n",
    "google_news_vectors_file = '~/workspace/ipython_notebooks/data/GoogleNews-vectors-negative300.bin'\n",
    "\n",
    "# this loads pre-trained word embeddings model - based on Google News corpus - this is a 3.4G file\n",
    "model = KeyedVectors.load_word2vec_format(google_news_vectors_file, binary=True)"
   ]
  },
  {
   "cell_type": "code",
   "execution_count": 11,
   "metadata": {
    "collapsed": true
   },
   "outputs": [],
   "source": [
    "to_vec = lambda w: model.word_vec(w).reshape(1,-1)\n",
    "\n",
    "from sklearn.metrics.pairwise import cosine_similarity"
   ]
  },
  {
   "cell_type": "code",
   "execution_count": null,
   "metadata": {
    "collapsed": true
   },
   "outputs": [],
   "source": [
    "def compare(a, b):\n",
    "    return cosine_similarity(to_vec(a),to_vec(b)).sum() "
   ]
  }
 ],
 "metadata": {
  "anaconda-cloud": {},
  "kernelspec": {
   "display_name": "Python [Root]",
   "language": "python",
   "name": "Python [Root]"
  },
  "language_info": {
   "codemirror_mode": {
    "name": "ipython",
    "version": 2
   },
   "file_extension": ".py",
   "mimetype": "text/x-python",
   "name": "python",
   "nbconvert_exporter": "python",
   "pygments_lexer": "ipython2",
   "version": "2.7.13"
  }
 },
 "nbformat": 4,
 "nbformat_minor": 0
}
